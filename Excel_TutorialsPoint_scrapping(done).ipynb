{
 "cells": [
  {
   "cell_type": "code",
   "execution_count": 78,
   "metadata": {},
   "outputs": [],
   "source": [
    "import requests\n",
    "import urllib.request\n",
    "import time\n",
    "from bs4 import BeautifulSoup\n",
    "import re\n",
    "import numpy as np"
   ]
  },
  {
   "cell_type": "code",
   "execution_count": 55,
   "metadata": {},
   "outputs": [],
   "source": [
    "base = 'https://www.tutorialspoint.com'\n",
    "url = 'https://www.tutorialspoint.com/excel/'\n",
    "response = requests.get(url)"
   ]
  },
  {
   "cell_type": "code",
   "execution_count": 74,
   "metadata": {},
   "outputs": [
    {
     "data": {
      "text/plain": [
       "'https://www.tutorialspoint.com/excel/excel_explore_window.htm'"
      ]
     },
     "execution_count": 74,
     "metadata": {},
     "output_type": "execute_result"
    }
   ],
   "source": [
    "soup = BeautifulSoup(response.text, 'html.parser')\n",
    "all_links = soup.findAll('a')\n",
    "useful_links = all_links[20:103]\n",
    "very_useful_links = [base + url['href'] for url in useful_links]\n",
    "very_useful_links[1]"
   ]
  },
  {
   "cell_type": "code",
   "execution_count": 120,
   "metadata": {},
   "outputs": [
    {
     "name": "stdout",
     "output_type": "stream",
     "text": [
      "Error in element 70: list index out of range\n",
      "Error in element 72: list index out of range\n",
      "Error in element 77: list index out of range\n"
     ]
    }
   ],
   "source": [
    "response_main = requests.get(very_useful_links[0])\n",
    "soup_main = BeautifulSoup(response_main.text, 'html.parser')\n",
    "beginning = re.findall(r'^([\\d\\D]+)<div class=\\\"clearer\\\">', str(soup_main), flags=re.DOTALL)[0]\n",
    "#ending = re.findall(r'<div class=\\\"pre-btn\\\">([\\d\\D]+)$', str(soup_main), flags=re.DOTALL)[0]\n",
    "middle = ''\n",
    "for i, url in enumerate(very_useful_links):\n",
    "    response = requests.get(url)\n",
    "    soup = BeautifulSoup(response.text, 'html.parser')\n",
    "    text_chapter = re.findall(r'<div class=\\\"clearer\\\"></div>([\\d\\D]+)<div class=\\\"pre-btn\\\">', str(soup), flags=re.DOTALL)\n",
    "    try:\n",
    "        middle = middle + text_chapter[0]\n",
    "    except IndexError as error:\n",
    "        print(f'Error in element {i}: {error}')\n",
    "    time.sleep(1.1 * np.random.random())\n",
    "\n",
    "with open('Excel_pages.html','w') as file:\n",
    "    file.write(beginning)\n",
    "    file.write(middle)\n",
    "    #file.write(ending)"
   ]
  },
  {
   "cell_type": "code",
   "execution_count": 90,
   "metadata": {},
   "outputs": [],
   "source": []
  }
 ],
 "metadata": {
  "kernelspec": {
   "display_name": "Python 3",
   "language": "python",
   "name": "python3"
  },
  "language_info": {
   "codemirror_mode": {
    "name": "ipython",
    "version": 3
   },
   "file_extension": ".py",
   "mimetype": "text/x-python",
   "name": "python",
   "nbconvert_exporter": "python",
   "pygments_lexer": "ipython3",
   "version": "3.7.3"
  }
 },
 "nbformat": 4,
 "nbformat_minor": 2
}
