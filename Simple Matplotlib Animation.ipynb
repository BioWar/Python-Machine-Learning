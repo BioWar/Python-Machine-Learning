{
 "cells": [
  {
   "cell_type": "markdown",
   "metadata": {},
   "source": [
    "# Part 1: Non-Jupyter Notebook Animation "
   ]
  },
  {
   "cell_type": "code",
   "execution_count": null,
   "metadata": {},
   "outputs": [],
   "source": [
    "import numpy as np\n",
    "from matplotlib import pyplot as plt\n",
    "from matplotlib.animation import FuncAnimation\n",
    "plt.style.use('seaborn-pastel')"
   ]
  },
  {
   "cell_type": "markdown",
   "metadata": {},
   "source": [
    "## Sine line"
   ]
  },
  {
   "cell_type": "code",
   "execution_count": null,
   "metadata": {},
   "outputs": [],
   "source": [
    "%%time\n",
    "fig = plt.figure()\n",
    "ax = plt.axes(xlim=(0, 2), ylim=(-2, 2))\n",
    "line, = ax.plot([],[], lw=4, color='red')\n",
    "\n",
    "frames = 100\n",
    "interval = 20\n",
    "\n",
    "def init():\n",
    "    line.set_data([],[])\n",
    "    return line,\n",
    "\n",
    "def animate(i):\n",
    "    x = np.linspace(0, 5, 1000)\n",
    "    y = np.sin(2 * np.pi * (x - 0.01 * i))\n",
    "    line.set_data(x, y)\n",
    "    return line,\n",
    "\n",
    "plt.title(f'Sine line animation, frames={frames}, interval={interval}.')\n",
    "plt.xlabel('X')\n",
    "plt.ylabel('Y')\n",
    "anim = FuncAnimation(fig, animate, init_func=init,\n",
    "                     frames=frames, interval=interval,\n",
    "                     blit=True)\n",
    "#anim.save('sine_wave.gif', writer='imagemagick')"
   ]
  },
  {
   "cell_type": "markdown",
   "metadata": {},
   "source": [
    "## Spiral line"
   ]
  },
  {
   "cell_type": "code",
   "execution_count": null,
   "metadata": {},
   "outputs": [],
   "source": [
    "%%time\n",
    "plt.style.use('dark_background')\n",
    "\n",
    "fig = plt.figure()\n",
    "ax = plt.axes(xlim=(-50, 50), ylim=(-50, 50))\n",
    "line, = ax.plot([], [], lw=2)\n",
    "\n",
    "def init():\n",
    "    line.set_data([], [])\n",
    "    return line,\n",
    "\n",
    "xdata, ydata = [], []\n",
    "\n",
    "def animate(i):\n",
    "    t = 0.1 * i\n",
    "    \n",
    "    x = t * np.sin(t)\n",
    "    y = t * np.cos(t)\n",
    "    \n",
    "    xdata.append(x)\n",
    "    ydata.append(y)\n",
    "    line.set_data(xdata, ydata)\n",
    "    return line,\n",
    "\n",
    "plt.title('Spiral animation')\n",
    "plt.axis('off')\n",
    "\n",
    "anim = FuncAnimation(fig, animate, init_func=init,\n",
    "                    frames=500, interval=20, blit=True)\n",
    "\n",
    "#anim.save('coil.gif', writer='imagemagick')\n"
   ]
  },
  {
   "cell_type": "markdown",
   "metadata": {},
   "source": [
    "## Stock prices graph"
   ]
  },
  {
   "cell_type": "code",
   "execution_count": null,
   "metadata": {},
   "outputs": [],
   "source": [
    "from time import sleep\n",
    "plt.style.use('dark_background')\n",
    "\n",
    "fig = plt.figure()\n",
    "ax1 = fig.add_subplot(1, 1, 1)\n",
    "\n",
    "def animate(i):\n",
    "    data = open('stock.txt', 'r').read()\n",
    "    lines = [i for i in data.split('\\n') if len(i) != 0]\n",
    "    xs = []\n",
    "    ys = []\n",
    "    \n",
    "    for line in lines:\n",
    "        x, y = line.split(',')\n",
    "        xs.append(x)\n",
    "        ys.append(float(y))\n",
    "        \n",
    "    ax1.clear()\n",
    "    ax1.plot(xs, ys)\n",
    "    \n",
    "plt.xlabel('Date')\n",
    "plt.ylabel('Price')\n",
    "plt.title('Stock price')\n",
    "    \n",
    "# Not actually working. Using of simple *.py file recomended.\n",
    "ani = FuncAnimation(fig, animate, interval=1000)\n",
    "plt.show()"
   ]
  },
  {
   "cell_type": "markdown",
   "metadata": {},
   "source": [
    "## 3D Graphs animation"
   ]
  },
  {
   "cell_type": "code",
   "execution_count": null,
   "metadata": {},
   "outputs": [],
   "source": [
    "%%time\n",
    "from mpl_toolkits.mplot3d import Axes3D\n",
    "import pandas as pd\n",
    "\n",
    "#!mkdir frames\n",
    "url = 'https://python-scripts.com/wp-content/uploads/2019/3d-data.csv'\n",
    "data = pd.read_csv(url)\n",
    "\n",
    "df = data.unstack().reset_index()\n",
    "df.columns=[\"X\", \"Y\", \"Z\"]\n",
    "\n",
    "df['X'] = pd.Categorical(df['X'])\n",
    "df['X'] = df['X'].cat.codes\n",
    "\n",
    "for angle in range(70, 210, 2):\n",
    "    fig = plt.figure()\n",
    "    ax = fig.gca(projection='3d')\n",
    "    ax.plot_trisurf(df['Y'], df['X'], df['Z'], cmap=plt.cm.viridis, linewidth=0.2)\n",
    "    \n",
    "    ax.view_init(30, angle)\n",
    "    filename = 'frames/step' + str(angle) + '.png'\n",
    "    plt.savefig(filename, dpi=96)\n",
    "    plt.gca()\n",
    "\n",
    "# Bash command for gif making: \n",
    "# convert -delay 10 step*.png animated_3d.gif"
   ]
  },
  {
   "cell_type": "markdown",
   "metadata": {},
   "source": [
    "## Celluloid module and animation with it"
   ]
  },
  {
   "cell_type": "code",
   "execution_count": null,
   "metadata": {},
   "outputs": [],
   "source": [
    "%%time\n",
    "from celluloid import Camera\n",
    "\n",
    "fig = plt.figure()\n",
    "camera = Camera(fig)\n",
    "\n",
    "for i in range(10):\n",
    "    plt.plot([i] * 10)\n",
    "    camera.snap()\n",
    "\n",
    "animation = camera.animate()\n",
    "animation.save('celluloid_minimal.gif', writer='imagemagick')"
   ]
  },
  {
   "cell_type": "markdown",
   "metadata": {},
   "source": [
    "## Subgraphics"
   ]
  },
  {
   "cell_type": "code",
   "execution_count": null,
   "metadata": {},
   "outputs": [],
   "source": [
    "%%time\n",
    "fig, axes = plt.subplots(2)\n",
    "camera = Camera(fig)\n",
    "\n",
    "t = np.linspace(0, 2 * np.pi, 128, endpoint=False)\n",
    "for i in t:\n",
    "    axes[0].plot(t, np.sin(t + i), color='blue', lw=4)\n",
    "    axes[1].plot(t, np.sin(t - i), color='blue', lw=4)\n",
    "    camera.snap()\n",
    "    \n",
    "animation = camera.animate()\n",
    "animation.save('celluloid_subplots.gif', writer='imagemagick')"
   ]
  },
  {
   "cell_type": "markdown",
   "metadata": {},
   "source": [
    "# Embedding Matplotlib Animations in Jupyter Notebooks\n",
    "<br>\n",
    "http://louistiao.me/posts/notebooks/embedding-matplotlib-animations-in-jupyter-notebooks/"
   ]
  },
  {
   "cell_type": "code",
   "execution_count": null,
   "metadata": {},
   "outputs": [],
   "source": [
    "import numpy as np\n",
    "import matplotlib.pyplot as plt\n",
    "from matplotlib import animation, rc\n",
    "from IPython.display import HTML"
   ]
  },
  {
   "cell_type": "code",
   "execution_count": null,
   "metadata": {},
   "outputs": [],
   "source": [
    "fig, ax = plt.subplots()\n",
    "\n",
    "ax.set_xlim((0, 2))\n",
    "ax.set_ylim((-2, 2))\n",
    "line, = ax.plot([], [], lw=2)"
   ]
  },
  {
   "cell_type": "code",
   "execution_count": null,
   "metadata": {},
   "outputs": [],
   "source": [
    "# initialization function: plot the background of each frame\n",
    "def init():\n",
    "    line.set_data([], [])\n",
    "    return (line,)\n",
    "\n",
    "# animation function. This is called sequentially\n",
    "def animate(i):\n",
    "    x = np.linspace(0, 2, 1000)\n",
    "    y = np.sin(2 * np.pi * (x - 0.01 * i))\n",
    "    line.set_data(x, y)\n",
    "    return (line,)"
   ]
  },
  {
   "cell_type": "code",
   "execution_count": null,
   "metadata": {},
   "outputs": [],
   "source": [
    "%%time\n",
    "anim = FuncAnimation(fig,\n",
    "                     animate,\n",
    "                     init_func=init,\n",
    "                     frames=100,\n",
    "                     interval=20,\n",
    "                     blit=True)\n",
    "HTML(anim.to_html5_video())"
   ]
  },
  {
   "cell_type": "code",
   "execution_count": null,
   "metadata": {},
   "outputs": [],
   "source": [
    "rc('animation', html='html5')"
   ]
  },
  {
   "cell_type": "code",
   "execution_count": null,
   "metadata": {},
   "outputs": [],
   "source": [
    "anim"
   ]
  },
  {
   "cell_type": "markdown",
   "metadata": {},
   "source": [
    "## Animated Scatter"
   ]
  },
  {
   "cell_type": "code",
   "execution_count": 2,
   "metadata": {},
   "outputs": [
    {
     "data": {
      "image/png": "[encoded data removed]",
      "text/plain": [
       "<Figure size 432x288 with 1 Axes>"
      ]
     },
     "metadata": {
      "needs_background": "light"
     },
     "output_type": "display_data"
    }
   ],
   "source": [
    "import matplotlib.pyplot as plt\n",
    "import matplotlib.animation as animation\n",
    "import numpy as np\n",
    "import seaborn as sns\n",
    "    \n",
    "    \n",
    "class AnimatedScatter(object):\n",
    "    \"\"\"An animated scatter plot using matplotlib.animations.FuncAnimation\"\"\"\n",
    "    def __init__(self, numpoints=50):\n",
    "        self.numpoints = numpoints\n",
    "        self.stream = self.data_stream()\n",
    "        \n",
    "        # Setup the figure and axes\n",
    "        self.fig, self.ax = plt.subplots()\n",
    "        # Then setup FuncAnimation\n",
    "        self.ani = animation.FuncAnimation(self.fig,\n",
    "                                           self.update,\n",
    "                                           interval=30,\n",
    "                                           frames=100,\n",
    "                                           init_func=self.setup_plot,\n",
    "                                           blit=True)\n",
    "        \n",
    "    def setup_plot(self):\n",
    "        \"\"\"Initial drawing of the scatter plot.\"\"\"\n",
    "        x, y, s, c = next(self.stream).T\n",
    "        self.scat = self.ax.scatter(x, \n",
    "                                    y,\n",
    "                                    c=c,\n",
    "                                    s=s,\n",
    "                                    vmin=0,\n",
    "                                    vmax=1,\n",
    "                                    cmap=\"jet\",\n",
    "                                    edgecolor=\"k\")\n",
    "        self.ax.axis([-10, 10, -10, 10])\n",
    "        # For FuncAnimation's sake, we need to return the artist we'll be using\n",
    "        # Note that it expects a sequence of artists, thus the trailing comma\n",
    "        return self.scat,\n",
    "    \n",
    "    def data_stream(self):\n",
    "        \"\"\"Generate a random walk (browning motion). Datais scaled to produce\n",
    "           a soft 'flickering' effect\"\"\"\n",
    "        xy = (np.random.random((self.numpoints, 2))-0.5)*10\n",
    "        s,c = np.random.random((self.numpoints, 2)).T\n",
    "        while True:\n",
    "            xy += 0.03 * (np.random.random((self.numpoints, 2)) - 0.5)\n",
    "            s += 0.05 * (np.random.random(self.numpoints) - 0.5)\n",
    "            c += 0.02 * (np.random.random(self.numpoints) - 0.5)\n",
    "            yield np.c_[xy[:,0], xy[:,1], s, c]\n",
    "            \n",
    "    def update(self, i):\n",
    "        \"\"\"Update the scatter plot.\"\"\"\n",
    "        data = next(self.stream)\n",
    "        \n",
    "        # Set x and y data\n",
    "        self.scat.set_offsets(data[:, :2])\n",
    "        # Set sizes\n",
    "        self.scat.set_sizes(300 * abs(data[:, 2])**1.5 + 100)\n",
    "        # Set colors\n",
    "        self.scat.set_array(data[:, 3])\n",
    "        \n",
    "        # For FuncAnimation return a sequence of artists, thus a trailing comma\n",
    "        return self.scat,\n",
    " \n",
    "a = AnimatedScatter()\n",
    "#HTML(a.ani.to_html5_video())\n",
    "a.ani.save('browning_motion.gif', writer='imagemagick')"
   ]
  },
  {
   "cell_type": "code",
   "execution_count": null,
   "metadata": {},
   "outputs": [],
   "source": []
  }
 ],
 "metadata": {
  "kernelspec": {
   "display_name": "Python 3",
   "language": "python",
   "name": "python3"
  },
  "language_info": {
   "codemirror_mode": {
    "name": "ipython",
    "version": 3
   },
   "file_extension": ".py",
   "mimetype": "text/x-python",
   "name": "python",
   "nbconvert_exporter": "python",
   "pygments_lexer": "ipython3",
   "version": "3.7.3"
  }
 },
 "nbformat": 4,
 "nbformat_minor": 2
}
