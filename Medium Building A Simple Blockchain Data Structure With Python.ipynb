{
 "cells": [
  {
   "cell_type": "markdown",
   "metadata": {},
   "source": [
    "# Article #1\n",
    "\n",
    "https://medium.com/coinmonks/building-a-simple-blockchain-data-structure-with-python-e7ebd448647a"
   ]
  },
  {
   "cell_type": "code",
   "execution_count": 1,
   "metadata": {},
   "outputs": [
    {
     "data": {
      "text/plain": [
       "'b94d27b9934d3e08a52e52d7da7dabfac484efe37a5380ee9088f7ace2efcde9'"
      ]
     },
     "execution_count": 1,
     "metadata": {},
     "output_type": "execute_result"
    }
   ],
   "source": [
    "import hashlib\n",
    "hashlib.sha256(b\"hello world\").hexdigest()"
   ]
  },
  {
   "cell_type": "markdown",
   "metadata": {},
   "source": [
    "Hashing is a process which you turn anything (as long as you can represent it as a string) into a fixed 256 bit string. In the previous example, the string “hello world” has a length 11. Actually the length of “hello world” is depended on how you count it. But for simplicity, we just count how many characters. That “hello world” string is turned into a fixed-size string, which is ‘b94d27b9934d3e08a52e52d7da7dabfac484efe37a5380ee9088f7ace2efcde9’. Say I hash another string with different length."
   ]
  },
  {
   "cell_type": "code",
   "execution_count": 10,
   "metadata": {},
   "outputs": [],
   "source": [
    "hash_str = hashlib.sha256(b\"I am the best president. Ever.\").hexdigest()"
   ]
  },
  {
   "cell_type": "code",
   "execution_count": 11,
   "metadata": {},
   "outputs": [
    {
     "data": {
      "text/plain": [
       "str"
      ]
     },
     "execution_count": 11,
     "metadata": {},
     "output_type": "execute_result"
    }
   ],
   "source": [
    "type(hash_str)"
   ]
  },
  {
   "cell_type": "code",
   "execution_count": 13,
   "metadata": {},
   "outputs": [
    {
     "data": {
      "text/plain": [
       "'0b1011100101001101001001111011100110010011010011010011111000001000101001010010111001010010110101111101101001111101101010111111101011000100100001001110111111100011011110100101001110000000111011101001000010001000111101111010110011100010111011111100110111101001'"
      ]
     },
     "execution_count": 13,
     "metadata": {},
     "output_type": "execute_result"
    }
   ],
   "source": [
    "bin(0xb94d27b9934d3e08a52e52d7da7dabfac484efe37a5380ee9088f7ace2efcde9)"
   ]
  },
  {
   "cell_type": "code",
   "execution_count": 15,
   "metadata": {},
   "outputs": [
    {
     "name": "stdout",
     "output_type": "stream",
     "text": [
      "b60eaf09e14454fe5135c8fd9aeca44a49115f5c9ed8d54db7add6ce58e6d529\n",
      "ca51ce1fb15acc6d69b8a5700256172fcc507e02073e6f19592e341bd6508ab8\n"
     ]
    }
   ],
   "source": [
    "print(hashlib.sha256(b\"HI!\").hexdigest())\n",
    "print(hashlib.sha256(b\"Hi!\").hexdigest())"
   ]
  },
  {
   "cell_type": "markdown",
   "metadata": {},
   "source": [
    "To describe the hashing algorithm, it is quite a work. But someday I’ll explain the code behind SHA-256. Now that you can comprehend the vastness of hashing, let’s move on. Blockchain is like a linked list, a data structure known by many computer science students. Let’s create a block. The first block in Bitcoin is called genesis block."
   ]
  },
  {
   "cell_type": "code",
   "execution_count": 20,
   "metadata": {},
   "outputs": [],
   "source": [
    "import hashlib, json\n",
    "\n",
    "def build_block(block):\n",
    "    block_serialized = json.dumps(block,\n",
    "                                  sort_keys=True).encode('utf-8')\n",
    "    block_hash = hashlib.sha256(block_serialized).hexdigest()\n",
    "    return block_hash\n",
    "\n",
    "block_genesis = {\n",
    "    'prev_hash' : None,\n",
    "    'transactions' : [1,3,5,2]\n",
    "}"
   ]
  },
  {
   "cell_type": "code",
   "execution_count": 21,
   "metadata": {},
   "outputs": [],
   "source": [
    "block_genesis_serialized = json.dumps(block_genesis,\n",
    "                                      sort_keys=True).encode('utf-8')\n",
    "block_genesis_hash = hashlib.sha256(block_genesis_serialized).hexdigest()\n",
    "\n",
    "block_genesis_hash = build_block(block_genesis)"
   ]
  },
  {
   "cell_type": "code",
   "execution_count": 19,
   "metadata": {},
   "outputs": [],
   "source": [
    "block_2 = {\n",
    "    'prev_hash' : block_genesis_hash,\n",
    "    'transactions' : [3,3,3,8,7, 12]\n",
    "}"
   ]
  },
  {
   "cell_type": "code",
   "execution_count": 22,
   "metadata": {},
   "outputs": [],
   "source": [
    "block_2_hash = build_block(block_2)"
   ]
  },
  {
   "cell_type": "code",
   "execution_count": 23,
   "metadata": {},
   "outputs": [],
   "source": [
    "block_3 = {\n",
    "    'prev_hash' : block_2_hash,\n",
    "    'transactions' : [3,4,4,8,34]\n",
    "}"
   ]
  },
  {
   "cell_type": "code",
   "execution_count": 24,
   "metadata": {},
   "outputs": [],
   "source": [
    "block_3_hash = build_block(block_3)"
   ]
  },
  {
   "cell_type": "code",
   "execution_count": 29,
   "metadata": {},
   "outputs": [
    {
     "name": "stdout",
     "output_type": "stream",
     "text": [
      "Original hash\n",
      "45eda4f7a76bf0f92a0acda2ce4752dfbe167473376f766f22d7ec68501cac40\n",
      "\n",
      "Tempering the data\n",
      "block_genesis['transactions'][0] = 3\n",
      "\n",
      "After being tampered\n",
      "27d68dae05428be6aa244869196a481f431fca6645dd33c3df7a740afa03b7d9\n"
     ]
    }
   ],
   "source": [
    "block_genesis = {\n",
    " 'prev_hash': None,\n",
    " 'transactions': [1, 3, 4, 2]\n",
    "}\n",
    "\n",
    "block_2 = {\n",
    " 'prev_hash': None,\n",
    " 'transactions': [3, 3, 3, 8, 7, 12]\n",
    "}\n",
    "\n",
    "block_3 = {\n",
    " 'prev_hash': None,\n",
    " 'transactions': [3, 4, 4, 8, 34]\n",
    "}\n",
    "\n",
    "def hash_blocks(blocks):\n",
    "    prev_hash = None\n",
    "    \n",
    "    for block in blocks:\n",
    "        \n",
    "        block['prev_hash'] = prev_hash\n",
    "        block_serialized = json.dumps(block,\n",
    "                                      sort_keys=True).encode('utf-8')\n",
    "        \n",
    "        block_hash = hashlib.sha256(block_serialized).hexdigest()\n",
    "        prev_hash = block_hash\n",
    "        \n",
    "    return prev_hash\n",
    "\n",
    "print(\"Original hash\")\n",
    "print(hash_blocks([block_genesis, block_2, block_3]))\n",
    "\n",
    "print(\"\\nTempering the data\")\n",
    "block_genesis['transactions'][0] = 3\n",
    "print('block_genesis[\\'transactions\\'][0] = 3')\n",
    "\n",
    "print(\"\\nAfter being tampered\")\n",
    "print(hash_blocks([block_genesis, block_2, block_3]))"
   ]
  },
  {
   "cell_type": "markdown",
   "metadata": {},
   "source": [
    "# Article #2\n",
    "\n",
    "https://towardsdatascience.com/building-a-minimal-blockchain-in-python-4f2e9934101d"
   ]
  },
  {
   "cell_type": "code",
   "execution_count": 1,
   "metadata": {},
   "outputs": [],
   "source": [
    "import copy     # fork a chain\n",
    "import datetime # get real time for timestamps\n",
    "import hashlib  # hash"
   ]
  },
  {
   "cell_type": "markdown",
   "metadata": {},
   "source": [
    "## 1. Define classes"
   ]
  },
  {
   "cell_type": "code",
   "execution_count": 2,
   "metadata": {},
   "outputs": [],
   "source": [
    "class MinimalChain():\n",
    "    def __init__(self): # initialize when creating a chain\n",
    "        self.blocks = [self.get_genesis_block()]\n",
    "        \n",
    "    def __eq__(self, other):\n",
    "        if isinstance(other, self.__class__):\n",
    "            return self.__dict__ == other.__dict__\n",
    "        else:\n",
    "            return False\n",
    "        \n",
    "    def get_genesis_block(self):\n",
    "        return MinimalBlock(0,\n",
    "                            datetime.datetime.utcnow(),\n",
    "                            'Genesis',\n",
    "                            'arbitrary')\n",
    "    \n",
    "    def add_block(self, data):\n",
    "        self.blocks.append(MinimalBlock(len(self.blocks),\n",
    "                                        datetime.datetime.utcnow(),\n",
    "                                        data,\n",
    "                                        self.blocks[len(self.blocks) - 1].hash))\n",
    "        \n",
    "    def get_chain_size(self): # exclude genesis block\n",
    "        return len(self.blocks) - 1\n",
    "    \n",
    "    def verify(self, verbose=True):\n",
    "        flag = True\n",
    "        for i in range(1, len(self.blocks)):\n",
    "            if not self.blocks[i].verify(): # assume Genesis block integrity\n",
    "                flag = False\n",
    "                if verbose:\n",
    "                    print(f'Wring data type(s) at block {i}.')\n",
    "            if self.blocks[i].index != i:\n",
    "                flag = False\n",
    "                if verbose:\n",
    "                    print(f'Wrong block index at block {i}')\n",
    "            if self.blocks[i-1].hash != self.blocks[i].previous_hash:\n",
    "                flag = False\n",
    "                if verbose:\n",
    "                    print(f'Wrong previous hash at block {i}')\n",
    "            if self.blocks[i-1].timestamp >= self.blocks[i].timestamp:\n",
    "                flag = False\n",
    "                if verbose:\n",
    "                    print(f'Backdating at block {i}')\n",
    "        return flag\n",
    "    \n",
    "    def fork(self, head='latest'):\n",
    "        if head in ['latest', 'whole', 'all']:\n",
    "            return copy.deepcopy(self) # deep copy since they are mutable\n",
    "        else:\n",
    "            c = copy.deepcopy(self)\n",
    "            c.blocks = c.blocks[0:head + 1]\n",
    "            return c\n",
    "        \n",
    "    def get_root(self, chain_2):\n",
    "        min_chain_size = min(self.get_chain_size(), chain_2.get_chain_size())\n",
    "        for i in range(1, min_chain_size + 1):\n",
    "            if self.blocks[i] != chain_2.blocks[i]:\n",
    "                return self.fork(i - 1)\n",
    "        return self.fork(min_chain_size)\n",
    "    "
   ]
  },
  {
   "cell_type": "code",
   "execution_count": 5,
   "metadata": {},
   "outputs": [],
   "source": [
    "class MinimalBlock():\n",
    "    def __init__(self, index, timestamp, data, previous_hash):\n",
    "        self.index = index \n",
    "        self.timestamp = timestamp\n",
    "        self.data = data\n",
    "        self.previous_hash = previous_hash\n",
    "        self.hash = self.hashing()\n",
    "        \n",
    "    def __eq__(self, other):\n",
    "        if isinstance(other, self.__class__):\n",
    "            return self.__dict__ == other.__dict__\n",
    "        else:\n",
    "            return False\n",
    "        \n",
    "    def hashing(self):\n",
    "        key = hashlib.sha256()\n",
    "        key.update(str(self.index).encode('utf-8'))\n",
    "        key.update(str(self.timestamp).encode('utf-8'))\n",
    "        key.update(str(self.data).encode('utf-8'))\n",
    "        key.update(str(self.previous_hash).encode('utf-8'))\n",
    "        return key.hexdigest()\n",
    "    \n",
    "    def verify(self):\n",
    "        instances = [self.index, self.timestamp, self.previous_hash, self.hash]\n",
    "        types = [int, datetime.datetime, str, str]\n",
    "        if sum(map(lambda inst_, type_: isinstance(inst_, type_), instances, types)) == len(instances):\n",
    "            return True\n",
    "        else:\n",
    "            return False"
   ]
  },
  {
   "cell_type": "markdown",
   "metadata": {},
   "source": [
    "## 2. Testing"
   ]
  },
  {
   "cell_type": "code",
   "execution_count": 6,
   "metadata": {},
   "outputs": [],
   "source": [
    "c = MinimalChain()\n",
    "for i in range(1, 20 + 1):\n",
    "    c.add_block(f'This is block {i} of my first chain.')"
   ]
  },
  {
   "cell_type": "code",
   "execution_count": 7,
   "metadata": {},
   "outputs": [
    {
     "name": "stdout",
     "output_type": "stream",
     "text": [
      "2019-09-07 17:16:29.211477\n",
      "This is block 7 of my first chain.\n",
      "8369056b9f1f008e31d91062739f2d748cbdc691445bb631a24a5493102ff1f4\n"
     ]
    }
   ],
   "source": [
    "print(c.blocks[3].timestamp)\n",
    "print(c.blocks[7].data)\n",
    "print(c.blocks[9].hash)"
   ]
  },
  {
   "cell_type": "code",
   "execution_count": 8,
   "metadata": {},
   "outputs": [
    {
     "name": "stdout",
     "output_type": "stream",
     "text": [
      "20\n",
      "True\n"
     ]
    }
   ],
   "source": [
    "print(c.get_chain_size())\n",
    "print(c.verify())"
   ]
  },
  {
   "cell_type": "code",
   "execution_count": 9,
   "metadata": {},
   "outputs": [
    {
     "name": "stdout",
     "output_type": "stream",
     "text": [
      "True\n"
     ]
    }
   ],
   "source": [
    "c_forked = c.fork('latest')\n",
    "print(c == c_forked)"
   ]
  },
  {
   "cell_type": "code",
   "execution_count": 10,
   "metadata": {},
   "outputs": [
    {
     "name": "stdout",
     "output_type": "stream",
     "text": [
      "20 21\n"
     ]
    }
   ],
   "source": [
    "c_forked.add_block('New block for forked chain!')\n",
    "print(c.get_chain_size(), c_forked.get_chain_size())"
   ]
  },
  {
   "cell_type": "markdown",
   "metadata": {},
   "source": [
    "## 3. Conflict Testing"
   ]
  },
  {
   "cell_type": "code",
   "execution_count": 11,
   "metadata": {},
   "outputs": [
    {
     "name": "stdout",
     "output_type": "stream",
     "text": [
      "Wrong block index at block 9\n"
     ]
    },
    {
     "data": {
      "text/plain": [
       "False"
      ]
     },
     "execution_count": 11,
     "metadata": {},
     "output_type": "execute_result"
    }
   ],
   "source": [
    "c_forked = c.fork('latest')\n",
    "c_forked.blocks[9].index = -9\n",
    "c_forked.verify()"
   ]
  },
  {
   "cell_type": "code",
   "execution_count": 12,
   "metadata": {},
   "outputs": [
    {
     "name": "stdout",
     "output_type": "stream",
     "text": [
      "Backdating at block 16\n"
     ]
    },
    {
     "data": {
      "text/plain": [
       "False"
      ]
     },
     "execution_count": 12,
     "metadata": {},
     "output_type": "execute_result"
    }
   ],
   "source": [
    "c_forked = c.fork('latest')\n",
    "c_forked.blocks[16].timestamp = datetime.datetime(2000, 1, 1, 0, 0, 0, 0)\n",
    "c_forked.verify()"
   ]
  },
  {
   "cell_type": "code",
   "execution_count": 13,
   "metadata": {},
   "outputs": [
    {
     "name": "stdout",
     "output_type": "stream",
     "text": [
      "Wrong previous hash at block 5\n"
     ]
    },
    {
     "data": {
      "text/plain": [
       "False"
      ]
     },
     "execution_count": 13,
     "metadata": {},
     "output_type": "execute_result"
    }
   ],
   "source": [
    "c_forked = c.fork('latest')\n",
    "c_forked.blocks[5].previous_hash = c_forked.blocks[1].hash\n",
    "c_forked.verify()"
   ]
  },
  {
   "cell_type": "code",
   "execution_count": 14,
   "metadata": {},
   "outputs": [
    {
     "name": "stdout",
     "output_type": "stream",
     "text": [
      "Wrong previous hash at block 5\n"
     ]
    },
    {
     "data": {
      "text/plain": [
       "False"
      ]
     },
     "execution_count": 14,
     "metadata": {},
     "output_type": "execute_result"
    }
   ],
   "source": [
    "c_forked = c.fork('latest')\n",
    "c_forked.blocks[5].previous_hash = c.blocks[5].hash\n",
    "c_forked.verify()"
   ]
  },
  {
   "cell_type": "code",
   "execution_count": null,
   "metadata": {},
   "outputs": [],
   "source": []
  }
 ],
 "metadata": {
  "kernelspec": {
   "display_name": "Python 3",
   "language": "python",
   "name": "python3"
  },
  "language_info": {
   "codemirror_mode": {
    "name": "ipython",
    "version": 3
   },
   "file_extension": ".py",
   "mimetype": "text/x-python",
   "name": "python",
   "nbconvert_exporter": "python",
   "pygments_lexer": "ipython3",
   "version": "3.7.3"
  }
 },
 "nbformat": 4,
 "nbformat_minor": 2
}
